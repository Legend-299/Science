{
 "cells": [
  {
   "cell_type": "markdown",
   "id": "4336dd73",
   "metadata": {},
   "source": [
    "# Data Structures Exercises"
   ]
  },
  {
   "cell_type": "markdown",
   "id": "203953ce",
   "metadata": {},
   "source": [
    "### Name: Federico Bushi"
   ]
  },
  {
   "cell_type": "markdown",
   "id": "3f2b4414",
   "metadata": {},
   "source": [
    "These exercises combine the fundamental concepts of lists, tuples, dictionaries, and sets covered in all of the lesson notebooks. By incorporating different data structures, students can see how each type can be used effectively in practical scenarios, building a well-rounded understanding of Python's core features. The challenge exercises, in particular, require students to apply multiple concepts together, reinforcing their understanding through more complex problem-solving."
   ]
  },
  {
   "cell_type": "markdown",
   "id": "783ea5f2",
   "metadata": {},
   "source": [
    "### Lists "
   ]
  },
  {
   "cell_type": "markdown",
   "id": "8a8a46a6",
   "metadata": {},
   "source": [
    "1. **Manipulating a List**: Create a list of your top five favorite movies. Write code to:\n",
    "   - Add a new movie to the list.\n",
    "   - Remove the third movie.\n",
    "   - Sort the list in alphabetical order.\n"
   ]
  },
  {
   "cell_type": "code",
   "execution_count": null,
   "id": "67c77ef7",
   "metadata": {},
   "outputs": [],
   "source": [
    "# Write your code below"
   ]
  },
  {
   "cell_type": "markdown",
   "id": "9a2eafad",
   "metadata": {},
   "source": [
    "Expected output:\n",
    "```\n",
    "['Inception', 'Pulp Fiction', 'The Dark Knight', 'The Matrix', 'The Shawshank Redemption']\n",
    "```"
   ]
  },
  {
   "cell_type": "markdown",
   "id": "6f6a32df",
   "metadata": {},
   "source": [
    "2. **Nested Lists**: Given the following nested list `[[1, 2, 3], ['a', 'b', 'c'], [True, False]]`, access the second element of the first list and the first element of the third list."
   ]
  },
  {
   "cell_type": "code",
   "execution_count": null,
   "id": "9b0f1c8d",
   "metadata": {},
   "outputs": [],
   "source": [
    "# Write your code below"
   ]
  },
  {
   "cell_type": "markdown",
   "id": "e8555ed6",
   "metadata": {},
   "source": [
    "Expected Output:\n",
    "```\n",
    "2 True\n",
    "```"
   ]
  },
  {
   "cell_type": "markdown",
   "id": "12277197",
   "metadata": {},
   "source": [
    "3. **Combining Lists**: Create two lists: `list1 = [1, 2, 3]` and `list2 = [4, 5, 6]`. Write code to concatenate them into a single list and calculate the sum of all elements."
   ]
  },
  {
   "cell_type": "code",
   "execution_count": null,
   "id": "28fb6a9d",
   "metadata": {},
   "outputs": [],
   "source": [
    "# Write your code below"
   ]
  },
  {
   "cell_type": "markdown",
   "id": "ea768a11",
   "metadata": {},
   "source": [
    "Expected Output:\n",
    "```\n",
    "[1, 2, 3, 4, 5, 6] 21\n",
    "```"
   ]
  },
  {
   "cell_type": "markdown",
   "id": "926995ba",
   "metadata": {},
   "source": [
    "### Tuples\n"
   ]
  },
  {
   "cell_type": "markdown",
   "id": "e0240c8b",
   "metadata": {},
   "source": [
    "4. **Creating and Using Tuples**: Create a tuple with your birth month, birth day, and birth year. Write code to access the month and day values.\n"
   ]
  },
  {
   "cell_type": "code",
   "execution_count": null,
   "id": "ae1da1e2",
   "metadata": {},
   "outputs": [],
   "source": [
    "# Write your code below"
   ]
  },
  {
   "cell_type": "markdown",
   "id": "e933d9db",
   "metadata": {},
   "source": [
    "Expected Output:\n",
    "```\n",
    "5 14\n",
    "```"
   ]
  },
  {
   "cell_type": "markdown",
   "id": "219edce4",
   "metadata": {},
   "source": [
    "5. **Tuple Unpacking**: Given the tuple `person = ('John Doe', 30, 'New York')`, unpack the values into separate variables `name`, `age`, and `city`, then print them.\n",
    "\n",
    "Note: See https://www.w3schools.com/python/python_tuples_unpack.asp for examples."
   ]
  },
  {
   "cell_type": "code",
   "execution_count": null,
   "id": "aa074afc",
   "metadata": {},
   "outputs": [],
   "source": [
    "# Write your code below"
   ]
  },
  {
   "cell_type": "markdown",
   "id": "0b89ad9a",
   "metadata": {},
   "source": [
    "Expected Output:\n",
    "```\n",
    "John Doe 30 New York\n",
    "```"
   ]
  },
  {
   "cell_type": "markdown",
   "id": "e3c7c6db",
   "metadata": {},
   "source": [
    "### Dictionaries"
   ]
  },
  {
   "cell_type": "markdown",
   "id": "e68a56bc",
   "metadata": {},
   "source": [
    "6. **Building a Dictionary**: Create a dictionary to store information about a book: title, author, year, and number of pages. Then:\n",
    "   - Add a new key-value pair for genre.\n",
    "   - Update the number of pages.\n",
    "   - Remove the year of publication."
   ]
  },
  {
   "cell_type": "code",
   "execution_count": null,
   "id": "685e392c",
   "metadata": {},
   "outputs": [],
   "source": [
    "# Write your code below"
   ]
  },
  {
   "cell_type": "markdown",
   "id": "08f244c0",
   "metadata": {},
   "source": [
    "Expected Output:\n",
    "```\n",
    "{'title': '1984', 'author': 'George Orwell', 'pages': 350, 'genre': 'Dystopian'}\n",
    "```"
   ]
  },
  {
   "cell_type": "markdown",
   "id": "8792c7b8",
   "metadata": {},
   "source": [
    "7. **Accessing Dictionary Keys and Values:** Create a dictionary `grades = {'Alice': 90, 'Bob': 85, 'Charlie': 92}`. Write code to:\n",
    "- Access and print the grade for 'Alice'.\n",
    "- Add a new student's grade for 'David' with a score of 88.\n",
    "- Update Bob's grade to 87."
   ]
  },
  {
   "cell_type": "code",
   "execution_count": null,
   "id": "d98a5796",
   "metadata": {},
   "outputs": [],
   "source": [
    "# Write your code below"
   ]
  },
  {
   "cell_type": "markdown",
   "id": "26c86a38",
   "metadata": {},
   "source": [
    "Expected Output:\n",
    "```\n",
    "90\n",
    "{'Alice': 90, 'Bob': 85, 'Charlie': 92, 'David': 88}\n",
    "{'Alice': 90, 'Bob': 87, 'Charlie': 92, 'David': 88}\n",
    "```"
   ]
  },
  {
   "cell_type": "markdown",
   "id": "029992b7",
   "metadata": {},
   "source": [
    "### Sets\n"
   ]
  },
  {
   "cell_type": "markdown",
   "id": "f75803e9",
   "metadata": {},
   "source": [
    "8. **Set Operations**: Create two sets: `set1 = {'apple', 'banana', 'cherry'}` and `set2 = {'banana', 'orange', 'grape'}`. Write code to:\n",
    "   - Find the intersection of the sets.\n",
    "   - Find the union of the sets.\n",
    "   - Determine which items are only in `set1` but not in `set2`.\n"
   ]
  },
  {
   "cell_type": "code",
   "execution_count": null,
   "id": "98be2881",
   "metadata": {},
   "outputs": [],
   "source": [
    "# Write your code below"
   ]
  },
  {
   "cell_type": "markdown",
   "id": "22cf2d49",
   "metadata": {},
   "source": [
    "Expected Output:\n",
    "```\n",
    "{'banana'} {'orange', 'grape', 'banana', 'apple', 'cherry'} {'apple', 'cherry'}\n",
    "```"
   ]
  },
  {
   "cell_type": "markdown",
   "id": "3a43a6cb",
   "metadata": {},
   "source": [
    "9. **Removing Duplicates**: Given a list `numbers = [1, 2, 3, 3, 4, 4, 5, 6]`, convert the list into a set to remove duplicate values, then convert it back to a list.\n"
   ]
  },
  {
   "cell_type": "code",
   "execution_count": null,
   "id": "58493908",
   "metadata": {},
   "outputs": [],
   "source": [
    "# Write your code below"
   ]
  },
  {
   "cell_type": "markdown",
   "id": "a4146ba4",
   "metadata": {},
   "source": [
    "Expected Output:\n",
    "```\n",
    "[1, 2, 3, 4, 5, 6]\n",
    "```"
   ]
  },
  {
   "cell_type": "markdown",
   "id": "822fc4dd",
   "metadata": {},
   "source": [
    "10. **Set Membership**: Given the set `colors = {'red', 'green', 'blue'}`, write code to check if 'yellow' is in the set and add it if it’s not.\n"
   ]
  },
  {
   "cell_type": "code",
   "execution_count": null,
   "id": "80f20089",
   "metadata": {},
   "outputs": [],
   "source": [
    "# Write your code below"
   ]
  },
  {
   "cell_type": "markdown",
   "id": "ce4f4132",
   "metadata": {},
   "source": [
    "Expected Output:\n",
    "```\n",
    "{'green', 'blue', 'yellow', 'red'}\n",
    "```"
   ]
  },
  {
   "cell_type": "markdown",
   "id": "3f163503",
   "metadata": {},
   "source": [
    "## Submission Instructions\n",
    "1. Verify your name is at the top of the notebook.\n",
    "1. Verify that your answer to each exercise is in one cell directly below the prompt.\n",
    "1. Delete all unused cells and run all cells. "
   ]
  }
 ],
 "metadata": {
  "kernelspec": {
   "display_name": "Python [conda env:base] *",
   "language": "python",
   "name": "conda-base-py"
  },
  "language_info": {
   "codemirror_mode": {
    "name": "ipython",
    "version": 3
   },
   "file_extension": ".py",
   "mimetype": "text/x-python",
   "name": "python",
   "nbconvert_exporter": "python",
   "pygments_lexer": "ipython3",
   "version": "3.12.7"
  }
 },
 "nbformat": 4,
 "nbformat_minor": 5
}
