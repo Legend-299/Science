{
  "nbformat": 4,
  "nbformat_minor": 0,
  "metadata": {
    "colab": {
      "provenance": [],
      "include_colab_link": true
    },
    "kernelspec": {
      "name": "python3",
      "display_name": "Python 3"
    },
    "language_info": {
      "name": "python"
    }
  },
  "cells": [
    {
      "cell_type": "markdown",
      "metadata": {
        "id": "view-in-github",
        "colab_type": "text"
      },
      "source": [
        "<a href=\"https://colab.research.google.com/github/Legend-299/Science/blob/main/Leonardo.ipynb\" target=\"_parent\"><img src=\"https://colab.research.google.com/assets/colab-badge.svg\" alt=\"Open In Colab\"/></a>"
      ]
    },
    {
      "cell_type": "code",
      "execution_count": null,
      "metadata": {
        "id": "NfrBn7UxGWzi"
      },
      "outputs": [],
      "source": []
    },
    {
      "cell_type": "markdown",
      "source": [
        "# Alan Turing and the Enigma Code: The Untold Story of a War Hero  \n",
        "\n",
        "## Introduction  \n",
        "During World War II, Nazi Germany used a highly sophisticated encryption machine called **Enigma** to send secret messages.  \n",
        "These messages were nearly impossible to decode—until **Alan Turing**, a British mathematician and computer scientist,  \n",
        "led a team at **Bletchley Park** to break the code, helping to shorten the war and save millions of lives.  \n",
        "\n",
        "This Jupyter Notebook tells the story of **how Turing cracked Enigma**, using fundamental Python programming concepts  \n",
        "to illustrate the challenges and solutions of wartime cryptography.  \n"
      ],
      "metadata": {
        "id": "3_zIvTy3GwbT"
      }
    },
    {
      "cell_type": "markdown",
      "source": [
        "## What Was the Enigma Machine?  \n",
        "The **Enigma Machine** was a device used by the Nazis to encrypt messages. It changed letter mappings daily,  \n",
        "making it extremely difficult to decode without knowing the correct settings.  \n",
        "\n",
        "Let’s simulate how a **simple substitution cipher** works in Python.  \n"
      ],
      "metadata": {
        "id": "ssWSURapG53r"
      }
    },
    {
      "cell_type": "code",
      "source": [
        "# A basic example of letter substitution to illustrate encryption\n",
        "def simple_encryption(message, shift):\n",
        "    encrypted_text = \"\"\n",
        "    for char in message:\n",
        "        if char.isalpha():\n",
        "            new_char = chr(((ord(char) - ord('A') + shift) % 26) + ord('A'))\n",
        "            encrypted_text += new_char\n",
        "        else:\n",
        "            encrypted_text += char\n",
        "    return encrypted_text\n",
        "\n",
        "# Encrypting a message\n",
        "message = \"HELLO WORLD\"\n",
        "shift = 3  # Shift value similar to a simple encryption\n",
        "encrypted_message = simple_encryption(message, shift)\n",
        "print(f\"Original Message: {message}\")\n",
        "print(f\"Encrypted Message: {encrypted_message}\")\n"
      ],
      "metadata": {
        "id": "yFa0JjMUG_iw"
      },
      "execution_count": null,
      "outputs": []
    },
    {
      "cell_type": "markdown",
      "source": [
        "## The Challenge: Millions of Possibilities  \n",
        "The **Enigma Machine** had **150 quintillion possible settings** (that's 150 followed by 18 zeros!).  \n",
        "Every day, the settings changed, making it nearly impossible to decipher messages without the correct key.  \n",
        "\n",
        "Turing realized that brute-force attempts would take too long, so he developed an intelligent way to  \n",
        "**narrow down possibilities using statistical analysis and logic.**  \n"
      ],
      "metadata": {
        "id": "kTcOMZa9HGrr"
      }
    },
    {
      "cell_type": "code",
      "source": [
        "import itertools\n",
        "\n",
        "# Simulating a small-scale brute-force attack\n",
        "possible_settings = list(itertools.permutations(\"ABC\", 3))  # Small-scale example\n",
        "print(f\"Possible Enigma settings (just 3 letters): {possible_settings}\")\n",
        "print(f\"Total possibilities: {len(possible_settings)}\")\n"
      ],
      "metadata": {
        "id": "yAuUEPG4HLPV"
      },
      "execution_count": null,
      "outputs": []
    },
    {
      "cell_type": "markdown",
      "source": [
        "## Breaking the Code: Turing's Bombe  \n",
        "Turing and his team designed **The Bombe**, a machine that systematically checked Enigma settings  \n",
        "to find the correct one faster than a human could.  \n",
        "\n",
        "Instead of testing all possibilities, they used **patterns in German messages** to filter out incorrect settings,  \n",
        "saving crucial time.  \n"
      ],
      "metadata": {
        "id": "bGzuYXYYHP6M"
      }
    },
    {
      "cell_type": "code",
      "source": [
        "# Simulating how narrowing down options can speed up decryption\n",
        "def find_correct_setting(possible_settings, known_pattern):\n",
        "    for setting in possible_settings:\n",
        "        if setting[:2] == known_pattern:\n",
        "            return setting\n",
        "    return None\n",
        "\n",
        "# Assume we intercepted part of the message: \"AB\"\n",
        "correct_setting = find_correct_setting(possible_settings, (\"A\", \"B\"))\n",
        "print(f\"Correct setting found: {correct_setting}\")\n"
      ],
      "metadata": {
        "id": "oOQb_IltHTgl"
      },
      "execution_count": null,
      "outputs": []
    },
    {
      "cell_type": "markdown",
      "source": [
        "## The Turning Point: Cracking the Code  \n",
        "By late **1941**, Turing and his team had cracked enough of Enigma’s patterns to regularly decode  \n",
        "German military messages. This allowed the Allies to **anticipate enemy movements**,  \n",
        "helping in major battles like **D-Day (June 6, 1944).**  \n",
        "\n",
        "### Turing's Bombe Machine:  \n",
        "![Bombe Machine](https://upload.wikimedia.org/wikipedia/commons/3/39/Turing%27s_bombe_rebuild_%282007%29.jpg)  \n",
        "\n",
        "(Source: Wikipedia)  \n"
      ],
      "metadata": {
        "id": "v9hPaKfwHXny"
      }
    },
    {
      "cell_type": "markdown",
      "source": [
        "## Turing's Legacy: The Birth of Modern Computing  \n",
        "Turing's work didn't just **win the war**—it led to the development of the first modern computers.  \n",
        "His ideas on **artificial intelligence** and **computational logic** shaped the digital age we live in today.  \n",
        "\n",
        "Let’s simulate a **basic binary computation**, inspired by Turing’s ideas.  \n"
      ],
      "metadata": {
        "id": "L359n30HHcMk"
      }
    },
    {
      "cell_type": "code",
      "source": [
        "# Simulating a basic binary operation (XOR, used in cryptography)\n",
        "def binary_xor(a, b):\n",
        "    return a ^ b  # XOR operation\n",
        "\n",
        "# Example binary numbers\n",
        "bit1 = 0b1011  # 11 in binary\n",
        "bit2 = 0b1101  # 13 in binary\n",
        "\n",
        "# Compute XOR\n",
        "result = binary_xor(bit1, bit2)\n",
        "print(f\"Binary XOR Result: {bin(result)}\")  # Binary format output\n"
      ],
      "metadata": {
        "id": "RnIl9SCKHffK"
      },
      "execution_count": null,
      "outputs": []
    },
    {
      "cell_type": "markdown",
      "source": [
        "## The Tragic End: Persecution & Pardon  \n",
        "Despite his heroism, Alan Turing was persecuted for being gay, which was illegal in Britain at the time.  \n",
        "In **1952**, he was convicted and forced to undergo chemical castration. He died in **1954**, at just 41 years old.  \n",
        "\n",
        "Decades later, in **2009**, the British government officially apologized for his treatment.  \n",
        "In **2013**, Queen Elizabeth II granted him a **royal pardon**.  \n",
        "\n",
        "For more on Alan Turing’s life and contributions, visit:  \n",
        "[Alan Turing Biography](https://www.britannica.com/biography/Alan-Turing)  \n"
      ],
      "metadata": {
        "id": "u1E4Wfa3HjHw"
      }
    },
    {
      "cell_type": "markdown",
      "source": [
        "## Conclusion: The Man Who Saved Millions  \n",
        "Alan Turing’s story is one of **brilliance, resilience, and injustice.** His contributions to cryptography  \n",
        "helped win World War II, yet he faced tragic discrimination.  \n",
        "\n",
        "His legacy lives on in every computer and AI system today. The world finally recognizes him as a **hero and pioneer**  \n",
        "who changed history.  \n"
      ],
      "metadata": {
        "id": "gq55PT5THnrH"
      }
    }
  ]
}