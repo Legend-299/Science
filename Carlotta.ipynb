{
  "nbformat": 4,
  "nbformat_minor": 0,
  "metadata": {
    "colab": {
      "provenance": [],
      "include_colab_link": true
    },
    "kernelspec": {
      "name": "python3",
      "display_name": "Python 3"
    },
    "language_info": {
      "name": "python"
    }
  },
  "cells": [
    {
      "cell_type": "markdown",
      "metadata": {
        "id": "view-in-github",
        "colab_type": "text"
      },
      "source": [
        "<a href=\"https://colab.research.google.com/github/Legend-299/Science/blob/main/Carlotta.ipynb\" target=\"_parent\"><img src=\"https://colab.research.google.com/assets/colab-badge.svg\" alt=\"Open In Colab\"/></a>"
      ]
    },
    {
      "cell_type": "markdown",
      "source": [],
      "metadata": {
        "id": "8cVGnWpf5yfq"
      }
    },
    {
      "cell_type": "markdown",
      "source": [
        "# The Coder's Quest: Unlocking the Secrets of the Digital Realm\n",
        "\n",
        "In this story, we'll follow a young coder named Carl, who is tasked with deciphering a mysterious encrypted message. Along the way, we’ll explore data structures, algorithms, and coding techniques to help Carl unlock the hidden secrets of the Digital Realm.\n",
        "\n",
        "![Digital World](https://www.example.com/path-to-your-image.jpg)\n"
      ],
      "metadata": {
        "id": "4iJd2Zdi5qgf"
      }
    },
    {
      "cell_type": "markdown",
      "source": [
        "## Chapter 1: A Mysterious Message\n",
        "\n",
        "Alex receives an email containing a Fibonacci sequence as the first challenge. To unlock the code, Carl must first understand the Fibonacci sequence.\n",
        "\n",
        "Here’s the first 10 Fibonacci numbers:\n"
      ],
      "metadata": {
        "id": "_yYTMO2X540J"
      }
    },
    {
      "cell_type": "code",
      "source": [
        "# Fibonacci Sequence function\n",
        "def fibonacci(n):\n",
        "    sequence = [0, 1]\n",
        "    while len(sequence) < n:\n",
        "        sequence.append(sequence[-1] + sequence[-2])\n",
        "    return sequence\n",
        "\n",
        "# Generate the first 10 Fibonacci numbers\n",
        "fibonacci(10)\n"
      ],
      "metadata": {
        "id": "li04ot_j5-5j"
      },
      "execution_count": null,
      "outputs": []
    },
    {
      "cell_type": "markdown",
      "source": [
        "## Chapter 2: Hidden in Plain Sight\n",
        "\n",
        "After examining the sequence, Carl discovers that each Fibonacci number can correspond to a letter in the alphabet. Let’s see what happens when we map the Fibonacci numbers to letters.\n",
        "\n",
        "![Alphabet Key](https://upload.wikimedia.org/wikipedia/commons/thumb/5/5f/Alphabet_Phonetic_Code_Chart.svg/1280px-Alphabet_Phonetic_Code_Chart.svg.png)\n"
      ],
      "metadata": {
        "id": "UC-YllS56Hf5"
      }
    },
    {
      "cell_type": "code",
      "source": [
        "# Function to map Fibonacci numbers to letters\n",
        "def fibonacci_to_letters(sequence):\n",
        "    alphabet = 'ABCDEFGHIJKLMNOPQRSTUVWXYZ'\n",
        "    letters = []\n",
        "    for num in sequence:\n",
        "        if num <= 26:  # Ensure the Fibonacci number is within the alphabet range\n",
        "            letters.append(alphabet[num - 1])  # Map Fibonacci numbers to letters\n",
        "    return ''.join(letters)\n",
        "\n",
        "# Convert Fibonacci sequence to letters\n",
        "fibonacci_to_letters(fibonacci(10))\n"
      ],
      "metadata": {
        "colab": {
          "base_uri": "https://localhost:8080/",
          "height": 180
        },
        "id": "4p05g00Z6Qp1",
        "outputId": "8ae5e988-ea09-4a0e-9f5f-0331c23ecf2d"
      },
      "execution_count": null,
      "outputs": [
        {
          "output_type": "error",
          "ename": "NameError",
          "evalue": "name 'fibonacci' is not defined",
          "traceback": [
            "\u001b[0;31m---------------------------------------------------------------------------\u001b[0m",
            "\u001b[0;31mNameError\u001b[0m                                 Traceback (most recent call last)",
            "\u001b[0;32m<ipython-input-4-e24fb0462c4a>\u001b[0m in \u001b[0;36m<cell line: 0>\u001b[0;34m()\u001b[0m\n\u001b[1;32m      9\u001b[0m \u001b[0;34m\u001b[0m\u001b[0m\n\u001b[1;32m     10\u001b[0m \u001b[0;31m# Convert Fibonacci sequence to letters\u001b[0m\u001b[0;34m\u001b[0m\u001b[0;34m\u001b[0m\u001b[0m\n\u001b[0;32m---> 11\u001b[0;31m \u001b[0mfibonacci_to_letters\u001b[0m\u001b[0;34m(\u001b[0m\u001b[0mfibonacci\u001b[0m\u001b[0;34m(\u001b[0m\u001b[0;36m10\u001b[0m\u001b[0;34m)\u001b[0m\u001b[0;34m)\u001b[0m\u001b[0;34m\u001b[0m\u001b[0;34m\u001b[0m\u001b[0m\n\u001b[0m",
            "\u001b[0;31mNameError\u001b[0m: name 'fibonacci' is not defined"
          ]
        }
      ]
    },
    {
      "cell_type": "markdown",
      "source": [
        "## Chapter 3: The Hidden Pattern\n",
        "\n",
        "By looking at the letters, Carl realizes they follow a pattern—every second letter in the Fibonacci sequence is missing. This leads Carl to uncover an important clue for the next step.\n",
        "\n",
        "![Pattern Example](https://www.example.com/path-to-your-image.jpg)\n"
      ],
      "metadata": {
        "id": "e_MzKM1Y6UA0"
      }
    },
    {
      "cell_type": "markdown",
      "source": [
        "## Chapter 4: Finding the Missing Letters\n",
        "\n",
        "After figuring out the pattern, Carl starts looking for the missing letters. The missing letters could be important in unlocking the final code.\n",
        "\n",
        "![Missing Letters](https://www.example.com/path-to-your-image.jpg)\n"
      ],
      "metadata": {
        "id": "syZOFfPV6ae0"
      }
    },
    {
      "cell_type": "code",
      "source": [
        "# Finding the missing letters\n",
        "def missing_letters(sequence):\n",
        "    alphabet = set('ABCDEFGHIJKLMNOPQRSTUVWXYZ')\n",
        "    found_letters = set(fibonacci_to_letters(sequence))\n",
        "    missing = alphabet - found_letters\n",
        "    return ''.join(sorted(missing))\n",
        "\n",
        "# Get missing letters\n",
        "missing_letters(fibonacci(10))\n"
      ],
      "metadata": {
        "colab": {
          "base_uri": "https://localhost:8080/",
          "height": 180
        },
        "id": "AHKMTUFQ6fTo",
        "outputId": "f86f313a-0631-433e-9796-8571b3f07101"
      },
      "execution_count": null,
      "outputs": [
        {
          "output_type": "error",
          "ename": "NameError",
          "evalue": "name 'fibonacci' is not defined",
          "traceback": [
            "\u001b[0;31m---------------------------------------------------------------------------\u001b[0m",
            "\u001b[0;31mNameError\u001b[0m                                 Traceback (most recent call last)",
            "\u001b[0;32m<ipython-input-1-614a693700b6>\u001b[0m in \u001b[0;36m<cell line: 0>\u001b[0;34m()\u001b[0m\n\u001b[1;32m      7\u001b[0m \u001b[0;34m\u001b[0m\u001b[0m\n\u001b[1;32m      8\u001b[0m \u001b[0;31m# Get missing letters\u001b[0m\u001b[0;34m\u001b[0m\u001b[0;34m\u001b[0m\u001b[0m\n\u001b[0;32m----> 9\u001b[0;31m \u001b[0mmissing_letters\u001b[0m\u001b[0;34m(\u001b[0m\u001b[0mfibonacci\u001b[0m\u001b[0;34m(\u001b[0m\u001b[0;36m10\u001b[0m\u001b[0;34m)\u001b[0m\u001b[0;34m)\u001b[0m\u001b[0;34m\u001b[0m\u001b[0;34m\u001b[0m\u001b[0m\n\u001b[0m",
            "\u001b[0;31mNameError\u001b[0m: name 'fibonacci' is not defined"
          ]
        }
      ]
    },
    {
      "cell_type": "markdown",
      "source": [
        "## Chapter 5: Unlocking the Code\n",
        "\n",
        "Alex combines the letters found in the Fibonacci sequence with the missing letters to form a final code. This code will be the key to entering the Digital Realm.\n",
        "\n",
        "![Unlocking the Code](https://www.example.com/path-to-your-image.jpg)\n"
      ],
      "metadata": {
        "id": "Pyk1UYGq6iDw"
      }
    },
    {
      "cell_type": "code",
      "source": [
        "# Combining the letters for the final code\n",
        "final_code = fibonacci_to_letters(fibonacci(10)) + missing_letters(fibonacci(10))\n",
        "final_code\n"
      ],
      "metadata": {
        "colab": {
          "base_uri": "https://localhost:8080/",
          "height": 180
        },
        "id": "aFD2T-yQ6lc3",
        "outputId": "fac64982-b2ba-4b32-8676-52081663f880"
      },
      "execution_count": null,
      "outputs": [
        {
          "output_type": "error",
          "ename": "NameError",
          "evalue": "name 'fibonacci' is not defined",
          "traceback": [
            "\u001b[0;31m---------------------------------------------------------------------------\u001b[0m",
            "\u001b[0;31mNameError\u001b[0m                                 Traceback (most recent call last)",
            "\u001b[0;32m<ipython-input-3-176ec72f581f>\u001b[0m in \u001b[0;36m<cell line: 0>\u001b[0;34m()\u001b[0m\n\u001b[1;32m      1\u001b[0m \u001b[0;31m# Combining the letters for the final code\u001b[0m\u001b[0;34m\u001b[0m\u001b[0;34m\u001b[0m\u001b[0m\n\u001b[0;32m----> 2\u001b[0;31m \u001b[0mfinal_code\u001b[0m \u001b[0;34m=\u001b[0m \u001b[0mfibonacci_to_letters\u001b[0m\u001b[0;34m(\u001b[0m\u001b[0mfibonacci\u001b[0m\u001b[0;34m(\u001b[0m\u001b[0;36m10\u001b[0m\u001b[0;34m)\u001b[0m\u001b[0;34m)\u001b[0m \u001b[0;34m+\u001b[0m \u001b[0mmissing_letters\u001b[0m\u001b[0;34m(\u001b[0m\u001b[0mfibonacci\u001b[0m\u001b[0;34m(\u001b[0m\u001b[0;36m10\u001b[0m\u001b[0;34m)\u001b[0m\u001b[0;34m)\u001b[0m\u001b[0;34m\u001b[0m\u001b[0;34m\u001b[0m\u001b[0m\n\u001b[0m\u001b[1;32m      3\u001b[0m \u001b[0mfinal_code\u001b[0m\u001b[0;34m\u001b[0m\u001b[0;34m\u001b[0m\u001b[0m\n",
            "\u001b[0;31mNameError\u001b[0m: name 'fibonacci' is not defined"
          ]
        }
      ]
    }
  ]
}