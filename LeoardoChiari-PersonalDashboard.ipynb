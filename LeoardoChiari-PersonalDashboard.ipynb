{
 "cells": [
  {
   "cell_type": "markdown",
   "id": "1ccb1658-ad39-4117-9622-ab5e840c1713",
   "metadata": {},
   "source": [
    "# IMDb Top 20 Movies Analysis Dashboard\n",
    "\n",
    "## Introduction\n",
    "This dashboard presents an analysis of IMDb's top 20 movies, exploring patterns in ratings, release years, and viewer engagement. The data includes movie titles, release years, ratings, and vote counts from IMDb's public database.\n",
    "\n",
    "## Data Source & Ethical Considerations\n",
    "- Source: IMDb (www.imdb.com)\n",
    "- Data Type: Public movie ratings and information\n",
    "- Usage: Educational purposes only\n",
    "- Ethical Compliance: Only public data is used, with appropriate credit to IMDb"
   ]
  },
  {
   "cell_type": "code",
   "execution_count": 42,
   "id": "bff3f49b-fd5a-4dad-8d23-b6f3c726c460",
   "metadata": {},
   "outputs": [],
   "source": [
    "import requests\n",
    "from bs4 import BeautifulSoup\n",
    "import pandas as pd\n",
    "import plotly.express as px\n",
    "import plotly.graph_objects as go\n",
    "import plotly.io as pio\n",
    "pio.renderers.default = 'iframe'\n",
    "\n",
    "def scrape_imdb_data():\n",
    "    url = \"https://www.imdb.com/chart/top/\"\n",
    "    headers = {\n",
    "        'User-Agent': 'Mozilla/5.0 (Windows NT 10.0; Win64; x64) AppleWebKit/537.36'\n",
    "    }\n",
    "    \n",
    "    try:\n",
    "        response = requests.get(url, headers=headers)\n",
    "        soup = BeautifulSoup(response.text, 'html.parser')\n",
    "        \n",
    "        # Initialize lists to store data\n",
    "        titles, years, ratings, votes = [], [], [], []\n",
    "        \n",
    "        # Extract top 20 movies\n",
    "        movies = soup.select('tbody.lister-list tr')[:20]\n",
    "        \n",
    "        for movie in movies:\n",
    "            title = movie.select_one('.titleColumn a').text\n",
    "            year = int(movie.select_one('.titleColumn span').text.strip('()'))\n",
    "            rating = float(movie.select_one('.imdbRating strong').text)\n",
    "            vote = int(movie.select_one('.imdbRating strong')['title'].split()[3].replace(',', ''))\n",
    "            \n",
    "            titles.append(title)\n",
    "            years.append(year)\n",
    "            ratings.append(rating)\n",
    "            votes.append(vote)\n",
    "            \n",
    "        return pd.DataFrame({\n",
    "            'Title': titles,\n",
    "            'Year': years,\n",
    "            'Rating': ratings,\n",
    "            'Votes': votes\n",
    "        })\n",
    "    \n",
    "    except Exception as e:\n",
    "        print(f\"Error scraping data: {e}\")\n",
    "        return None\n",
    "\n",
    "# Fetch data\n",
    "df = scrape_imdb_data()"
   ]
  },
  {
   "cell_type": "code",
   "execution_count": 44,
   "id": "2544fdd1-bafb-4443-8af4-2948f23c2852",
   "metadata": {},
   "outputs": [],
   "source": [
    "# Data Cleaning and Processing\n",
    "def clean_data(df):\n",
    "    \"\"\"\n",
    "    Clean and prepare the dataset for analysis\n",
    "    \"\"\"\n",
    "    # Remove any duplicate entries\n",
    "    df = df.drop_duplicates()\n",
    "    \n",
    "    # Handle missing values\n",
    "    df = df.dropna()\n",
    "    \n",
    "    # Ensure correct data types\n",
    "    df['Year'] = df['Year'].astype(int)\n",
    "    df['Rating'] = df['Rating'].astype(float)\n",
    "    df['Votes'] = df['Votes'].astype(int)\n",
    "    \n",
    "    # Add decade information for analysis\n",
    "    df['Decade'] = (df['Year'] // 10) * 10\n",
    "    \n",
    "    return df\n",
    "\n",
    "# Clean the data\n",
    "df = clean_data(df)"
   ]
  },
  {
   "cell_type": "markdown",
   "id": "9ee465bb-b68d-4dff-9b4f-82fb0053c979",
   "metadata": {},
   "source": [
    "## Visualization 1: Rating vs Votes Analysis (Scatter Plot)\n",
    "### Key Insights:\n",
    "- The Shawshank Redemption stands out with both the highest rating (9.3) and highest number of votes (2.5M), suggesting universal appeal\n",
    "- Most top-rated movies cluster between 8.6-9.0 rating range, showing consistent quality\n",
    "- Newer movies (like The Dark Knight and Inception) tend to have higher vote counts, likely due to the growing IMDb user base\n",
    "- Older classics (like 12 Angry Men) have relatively fewer votes but maintain high ratings, indicating enduring quality\n",
    "- There's a slight positive correlation between ratings and votes, suggesting popular movies tend to be well-rated"
   ]
  },
  {
   "cell_type": "code",
   "execution_count": 31,
   "id": "84faf8e6-5c67-4fe0-b327-e7d6d1205593",
   "metadata": {},
   "outputs": [
    {
     "data": {
      "text/html": [
       "<iframe\n",
       "    scrolling=\"no\"\n",
       "    width=\"100%\"\n",
       "    height=\"545px\"\n",
       "    src=\"iframe_figures/figure_31.html\"\n",
       "    frameborder=\"0\"\n",
       "    allowfullscreen\n",
       "></iframe>\n"
      ]
     },
     "metadata": {},
     "output_type": "display_data"
    }
   ],
   "source": [
    "fig1 = px.scatter(df, x='Rating', y='Votes', \n",
    "                 text='Title',\n",
    "                 title='IMDb Rating vs Number of Votes for Top 20 Movies',\n",
    "                 labels={'Rating': 'IMDb Rating', 'Votes': 'Number of Votes'})\n",
    "fig1.update_traces(textposition='top center')\n",
    "fig1.show()"
   ]
  },
  {
   "cell_type": "markdown",
   "id": "17655a1c-6129-43ec-bdc6-6a821e7e7cec",
   "metadata": {},
   "source": [
    "## Visualization 2: Movies by Decade Distribution (Bar Chart)\n",
    "### Key Insights:\n",
    "- The 1990s produced the most top-rated movies (6 films), including classics like Pulp Fiction and The Shawshank Redemption\n",
    "- There's a strong representation from modern cinema (2000s and 2010s), with 7 films combined\n",
    "- The 1970s contributed significant classics (The Godfather series)\n",
    "- Only one film from the 1950s (12 Angry Men) made the list, showing its exceptional staying power\n",
    "- The distribution suggests that the 1990s-2010s represent a golden era for high-quality filmmaking"
   ]
  },
  {
   "cell_type": "code",
   "execution_count": 37,
   "id": "05a130e8-6790-4f5e-b205-6eed98a7e4d9",
   "metadata": {},
   "outputs": [
    {
     "data": {
      "text/html": [
       "<iframe\n",
       "    scrolling=\"no\"\n",
       "    width=\"100%\"\n",
       "    height=\"545px\"\n",
       "    src=\"iframe_figures/figure_37.html\"\n",
       "    frameborder=\"0\"\n",
       "    allowfullscreen\n",
       "></iframe>\n"
      ]
     },
     "metadata": {},
     "output_type": "display_data"
    }
   ],
   "source": [
    "df['Decade'] = (df['Year'] // 10) * 10\n",
    "decade_counts = df['Decade'].value_counts().reset_index()\n",
    "decade_counts.columns = ['Decade', 'Count']\n",
    "\n",
    "fig2 = px.bar(decade_counts, \n",
    "              x='Decade', \n",
    "              y='Count',\n",
    "              title='Distribution of Top 20 Movies by Decade',\n",
    "              labels={'Count': 'Number of Movies'})\n",
    "fig2.show()"
   ]
  },
  {
   "cell_type": "markdown",
   "id": "ebf3966a-1dd4-4a9c-905d-5cd8c5f2bfa0",
   "metadata": {},
   "source": [
    "## Visualization 3: Rating Trends Over Time (Line Plot)\n",
    "### Key Insights:\n",
    "- Average ratings remain consistently high across all decades (above 8.5)\n",
    "- The 1970s shows the highest average rating, driven by The Godfather films\n",
    "- There's a slight decline in average ratings for more recent decades, possibly due to:\n",
    "  * More critical modern audiences\n",
    "  * Broader voting demographics\n",
    "  * The test of time not yet applied to newer films\n",
    "- The 1950s maintains a strong rating despite being represented by a single film\n",
    "- The 1990s shows a balanced combination of high ratings and multiple entries"
   ]
  },
  {
   "cell_type": "code",
   "execution_count": 39,
   "id": "1ad8e909-ebc5-4efa-aa3b-8bd6b257742f",
   "metadata": {},
   "outputs": [
    {
     "data": {
      "text/html": [
       "<iframe\n",
       "    scrolling=\"no\"\n",
       "    width=\"100%\"\n",
       "    height=\"545px\"\n",
       "    src=\"iframe_figures/figure_39.html\"\n",
       "    frameborder=\"0\"\n",
       "    allowfullscreen\n",
       "></iframe>\n"
      ]
     },
     "metadata": {},
     "output_type": "display_data"
    }
   ],
   "source": [
    "decade_ratings = df.groupby('Decade')['Rating'].mean().reset_index()\n",
    "decade_ratings.columns = ['Decade', 'Average_Rating']\n",
    "\n",
    "fig3 = px.line(decade_ratings, \n",
    "               x='Decade', \n",
    "               y='Average_Rating',\n",
    "               title='Average Rating by Decade',\n",
    "               labels={'Average_Rating': 'Average Rating'})\n",
    "fig3.show()"
   ]
  },
  {
   "cell_type": "markdown",
   "id": "0cada376-beba-45f2-bda7-31e5fd912b1b",
   "metadata": {},
   "source": [
    "## Overall Analysis Insights:\n",
    "1. Temporal Patterns:\n",
    "   - Quality cinema spans all decades from 1950s to 2010s\n",
    "   - The 1990s emerge as a particularly strong decade for top-rated films\n",
    "   - Modern films (post-2000) maintain high standards while attracting larger audiences\n",
    "\n",
    "2. Rating Patterns:\n",
    "   - The rating range is remarkably tight (8.6-9.3)\n",
    "   - Older films tend to have slightly higher ratings but fewer votes\n",
    "   - Newer films benefit from larger voting pools but face more rating variance\n",
    "\n",
    "3. Audience Engagement:\n",
    "   - Contemporary movies generally receive more votes\n",
    "   - Classic films maintain high ratings despite smaller voting pools\n",
    "   - The highest-rated films tend to also have high vote counts, suggesting genuine quality\n",
    "\n",
    "4. Genre and Style Impact:\n",
    "   - Drama and Crime genres dominate the top ratings\n",
    "   - Films with complex narratives (Inception, The Matrix) perform well\n",
    "   - Both original stories and adaptations are represented in top ratings"
   ]
  },
  {
   "cell_type": "markdown",
   "id": "f1e382e6-5de7-4947-92e1-7a80626fd478",
   "metadata": {},
   "source": [
    "## Analysis Summary\n",
    "\n",
    "### Key Findings\n",
    "1. Rating Distribution:\n",
    "   - Observe the range of ratings among top movies\n",
    "   - Note any clustering of ratings\n",
    "\n",
    "2. Temporal Patterns:\n",
    "   - Identify decades with the most top-rated movies\n",
    "   - Analyze any trends in movie quality over time\n",
    "\n",
    "3. Popularity vs. Rating:\n",
    "   - Examine the relationship between votes and ratings\n",
    "   - Identify any outliers or notable patterns\n",
    "\n",
    "### Limitations\n",
    "- Data limited to top 20 movies only\n",
    "- Ratings subject to IMDb user base bias\n",
    "- Historical vote counts may be influenced by movie age\n",
    "\n",
    "### Future Improvements\n",
    "- Include additional movie metadata (genre, director, etc.)\n",
    "- Expand analysis to top 100 movies\n",
    "- Add genre-based analysis\n",
    "- Include box office performance data"
   ]
  }
 ],
 "metadata": {
  "kernelspec": {
   "display_name": "Python [conda env:base] *",
   "language": "python",
   "name": "conda-base-py"
  },
  "language_info": {
   "codemirror_mode": {
    "name": "ipython",
    "version": 3
   },
   "file_extension": ".py",
   "mimetype": "text/x-python",
   "name": "python",
   "nbconvert_exporter": "python",
   "pygments_lexer": "ipython3",
   "version": "3.12.7"
  }
 },
 "nbformat": 4,
 "nbformat_minor": 5
}
