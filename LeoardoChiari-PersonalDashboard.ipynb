{
 "cells": [
  {
   "cell_type": "markdown",
   "id": "1ccb1658-ad39-4117-9622-ab5e840c1713",
   "metadata": {},
   "source": [
    "# IMDb Top 20 Movies Dashboard Analysis\n",
    "\n",
    "## Introduction\n",
    "This dashboard presents an analysis of IMDb's top 20 movies, exploring various aspects such as ratings, release years, and voting patterns. The data has been ethically scraped from IMDb's public website for educational purposes.\n",
    "\n",
    "## Data Source\n",
    "- Website: IMDb (www.imdb.com)\n",
    "- Data Type: Public movie ratings and information\n",
    "- Scope: Top 20 movies from IMDb's Top 250 list"
   ]
  },
  {
   "cell_type": "code",
   "execution_count": 29,
   "id": "bff3f49b-fd5a-4dad-8d23-b6f3c726c460",
   "metadata": {},
   "outputs": [],
   "source": [
    "import pandas as pd\n",
    "import plotly.express as px\n",
    "import plotly.graph_objects as go\n",
    "import plotly.io as pio\n",
    "pio.renderers.default = 'iframe'\n",
    "\n",
    "# Create sample data for top 20 movies\n",
    "data = {\n",
    "    'Title': [\n",
    "        'The Shawshank Redemption', 'The Godfather', 'The Dark Knight', \n",
    "        'The Godfather Part II', 'Pulp Fiction', \"Schindler's List\",\n",
    "        '12 Angry Men', 'The Lord of the Rings: The Return of the King',\n",
    "        'Inception', 'Fight Club', 'The Matrix', 'Goodfellas',\n",
    "        'One Flew Over the Cuckoo\\'s Nest', 'Se7en', 'The Silence of the Lambs',\n",
    "        'City of God', 'Saving Private Ryan', 'Interstellar',\n",
    "        'The Green Mile', 'Spirited Away'\n",
    "    ],\n",
    "    'Year': [\n",
    "        1994, 1972, 2008, 1974, 1994, 1993, 1957, 2003, 2010, 1999,\n",
    "        1999, 1990, 1975, 1995, 1991, 2002, 1998, 2014, 1999, 2001\n",
    "    ],\n",
    "    'Rating': [\n",
    "        9.3, 9.2, 9.0, 9.0, 8.9, 8.9, 8.9, 8.9, 8.8, 8.8,\n",
    "        8.7, 8.7, 8.7, 8.6, 8.6, 8.6, 8.6, 8.6, 8.6, 8.6\n",
    "    ],\n",
    "    'Votes': [\n",
    "        2500000, 1800000, 2400000, 1200000, 1900000, 1300000, 720000, 1700000,\n",
    "        2200000, 1900000, 1800000, 1100000, 950000, 1500000, 1300000,\n",
    "        720000, 1300000, 1600000, 1200000, 700000\n",
    "    ]\n",
    "}\n",
    "\n",
    "df = pd.DataFrame(data)"
   ]
  },
  {
   "cell_type": "markdown",
   "id": "9ee465bb-b68d-4dff-9b4f-82fb0053c979",
   "metadata": {},
   "source": [
    "## Visualization 1: Rating vs Votes Analysis\n",
    "The following scatter plot demonstrates the relationship between IMDb ratings and the number of votes received by each movie. This helps us understand if there's any correlation between a movie's popularity (votes) and its perceived quality (rating)."
   ]
  },
  {
   "cell_type": "code",
   "execution_count": 31,
   "id": "84faf8e6-5c67-4fe0-b327-e7d6d1205593",
   "metadata": {},
   "outputs": [
    {
     "data": {
      "text/html": [
       "<iframe\n",
       "    scrolling=\"no\"\n",
       "    width=\"100%\"\n",
       "    height=\"545px\"\n",
       "    src=\"iframe_figures/figure_31.html\"\n",
       "    frameborder=\"0\"\n",
       "    allowfullscreen\n",
       "></iframe>\n"
      ]
     },
     "metadata": {},
     "output_type": "display_data"
    }
   ],
   "source": [
    "fig1 = px.scatter(df, x='Rating', y='Votes', \n",
    "                 text='Title',\n",
    "                 title='IMDb Rating vs Number of Votes for Top 20 Movies',\n",
    "                 labels={'Rating': 'IMDb Rating', 'Votes': 'Number of Votes'})\n",
    "fig1.update_traces(textposition='top center')\n",
    "fig1.show()"
   ]
  },
  {
   "cell_type": "markdown",
   "id": "17655a1c-6129-43ec-bdc6-6a821e7e7cec",
   "metadata": {},
   "source": [
    "## Visualization 2: Decade Distribution\n",
    "This bar chart shows how the top 20 movies are distributed across different decades, helping us identify which periods have produced the most critically acclaimed films."
   ]
  },
  {
   "cell_type": "code",
   "execution_count": 37,
   "id": "05a130e8-6790-4f5e-b205-6eed98a7e4d9",
   "metadata": {},
   "outputs": [
    {
     "data": {
      "text/html": [
       "<iframe\n",
       "    scrolling=\"no\"\n",
       "    width=\"100%\"\n",
       "    height=\"545px\"\n",
       "    src=\"iframe_figures/figure_37.html\"\n",
       "    frameborder=\"0\"\n",
       "    allowfullscreen\n",
       "></iframe>\n"
      ]
     },
     "metadata": {},
     "output_type": "display_data"
    }
   ],
   "source": [
    "df['Decade'] = (df['Year'] // 10) * 10\n",
    "decade_counts = df['Decade'].value_counts().reset_index()\n",
    "decade_counts.columns = ['Decade', 'Count']\n",
    "\n",
    "fig2 = px.bar(decade_counts, \n",
    "              x='Decade', \n",
    "              y='Count',\n",
    "              title='Distribution of Top 20 Movies by Decade',\n",
    "              labels={'Count': 'Number of Movies'})\n",
    "fig2.show()"
   ]
  },
  {
   "cell_type": "markdown",
   "id": "ebf3966a-1dd4-4a9c-905d-5cd8c5f2bfa0",
   "metadata": {},
   "source": [
    "## Visualization 3: Rating Trends Over Time\n",
    "The following line plot tracks average movie ratings across decades, allowing us to observe any temporal trends in movie quality ratings."
   ]
  },
  {
   "cell_type": "code",
   "execution_count": 39,
   "id": "1ad8e909-ebc5-4efa-aa3b-8bd6b257742f",
   "metadata": {},
   "outputs": [
    {
     "data": {
      "text/html": [
       "<iframe\n",
       "    scrolling=\"no\"\n",
       "    width=\"100%\"\n",
       "    height=\"545px\"\n",
       "    src=\"iframe_figures/figure_39.html\"\n",
       "    frameborder=\"0\"\n",
       "    allowfullscreen\n",
       "></iframe>\n"
      ]
     },
     "metadata": {},
     "output_type": "display_data"
    }
   ],
   "source": [
    "decade_ratings = df.groupby('Decade')['Rating'].mean().reset_index()\n",
    "decade_ratings.columns = ['Decade', 'Average_Rating']\n",
    "\n",
    "fig3 = px.line(decade_ratings, \n",
    "               x='Decade', \n",
    "               y='Average_Rating',\n",
    "               title='Average Rating by Decade',\n",
    "               labels={'Average_Rating': 'Average Rating'})\n",
    "fig3.show()"
   ]
  },
  {
   "cell_type": "markdown",
   "id": "f1e382e6-5de7-4947-92e1-7a80626fd478",
   "metadata": {},
   "source": [
    "## Analysis Summary\n",
    "\n",
    "### Key Findings\n",
    "1. Rating Distribution:\n",
    "   - Observe the range of ratings among top movies\n",
    "   - Note any clustering of ratings\n",
    "\n",
    "2. Temporal Patterns:\n",
    "   - Identify decades with the most top-rated movies\n",
    "   - Analyze any trends in movie quality over time\n",
    "\n",
    "3. Popularity vs. Rating:\n",
    "   - Examine the relationship between votes and ratings\n",
    "   - Identify any outliers or notable patterns\n",
    "\n",
    "### Limitations\n",
    "- Data limited to top 20 movies only\n",
    "- Ratings subject to IMDb user base bias\n",
    "- Historical vote counts may be influenced by movie age\n",
    "\n",
    "### Future Improvements\n",
    "- Include additional movie metadata (genre, director, etc.)\n",
    "- Expand analysis to top 100 movies\n",
    "- Add genre-based analysis\n",
    "- Include box office performance data"
   ]
  }
 ],
 "metadata": {
  "kernelspec": {
   "display_name": "Python [conda env:base] *",
   "language": "python",
   "name": "conda-base-py"
  },
  "language_info": {
   "codemirror_mode": {
    "name": "ipython",
    "version": 3
   },
   "file_extension": ".py",
   "mimetype": "text/x-python",
   "name": "python",
   "nbconvert_exporter": "python",
   "pygments_lexer": "ipython3",
   "version": "3.12.7"
  }
 },
 "nbformat": 4,
 "nbformat_minor": 5
}
