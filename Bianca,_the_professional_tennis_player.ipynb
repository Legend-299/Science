{
  "nbformat": 4,
  "nbformat_minor": 0,
  "metadata": {
    "colab": {
      "provenance": [],
      "include_colab_link": true
    },
    "kernelspec": {
      "name": "python3",
      "display_name": "Python 3"
    },
    "language_info": {
      "name": "python"
    }
  },
  "cells": [
    {
      "cell_type": "markdown",
      "metadata": {
        "id": "view-in-github",
        "colab_type": "text"
      },
      "source": [
        "<a href=\"https://colab.research.google.com/github/Legend-299/Science/blob/main/Bianca%2C_the_professional_tennis_player.ipynb\" target=\"_parent\"><img src=\"https://colab.research.google.com/assets/colab-badge.svg\" alt=\"Open In Colab\"/></a>"
      ]
    },
    {
      "cell_type": "markdown",
      "source": [
        "# Bianca's Successful Tennis Season: A Journey to Victory\n",
        "\n",
        "Bianca, a young and talented tennis player, had a breakthrough season that many tennis fans will remember. She started the year with big goals: improve her game consistency, elevate her mental toughness, and climb the world rankings. Throughout the season, she faced challenges, overcame tough opponents, and achieved some of the best results of her career.\n",
        "\n",
        "In this notebook, we’ll analyze Bianca’s journey during the 2024 season, breaking down her tournament performances, key wins, and ranking improvements. By examining these data points, we’ll uncover the factors that contributed to her success.\n",
        "\n",
        "Through this story, we will:\n",
        "\n",
        "- Track Bianca’s wins in major tournaments.\n",
        "- Explore how her performance improved throughout the season.\n",
        "- Visualize key metrics such as win percentage, ranking improvements, and match statistics.\n"
      ],
      "metadata": {
        "id": "IfjTTIyCtNvu"
      }
    },
    {
      "cell_type": "markdown",
      "source": [
        "## Bianca's Season Overview: Key Wins and Tournaments\n",
        "\n",
        "Bianca had a busy and exciting season in 2024, playing in several major tournaments. Some of the key highlights of her year included victories, close matches, and personal growth. Let’s take a look at the tournaments she participated in and analyze how she performed in each:\n",
        "\n",
        "- **Australian Open** (January) – Bianca started strong, reaching the 4th round.\n",
        "- **French Open** (May-June) – She progressed to the quarterfinals, showing impressive consistency.\n",
        "- **Wimbledon** (July) – A major turning point with a semifinal appearance.\n",
        "- **US Open** (August-September) – Her crowning achievement, winning the title!\n",
        "\n",
        "We will now track her performance in each tournament, including the number of wins and how her ranking improved after each one.\n"
      ],
      "metadata": {
        "id": "a6PzSjdBtSSm"
      }
    },
    {
      "cell_type": "code",
      "source": [
        "import pandas as pd\n",
        "import matplotlib.pyplot as plt\n",
        "\n",
        "# Simulated data for Bianca's tournament results\n",
        "tournaments = ['Australian Open', 'French Open', 'Wimbledon', 'US Open']\n",
        "wins = [5, 7, 6, 8]  # Number of wins in each tournament\n",
        "ranking_change = [-2, -3, -1, -4]  # Change in ranking (negative means improvement)\n",
        "\n",
        "# Create a DataFrame\n",
        "season_data = pd.DataFrame({\n",
        "    'Tournament': tournaments,\n",
        "    'Wins': wins,\n",
        "    'Ranking Change': ranking_change\n",
        "})\n",
        "\n",
        "# Display the data\n",
        "season_data\n"
      ],
      "metadata": {
        "colab": {
          "base_uri": "https://localhost:8080/",
          "height": 173
        },
        "id": "Hhe0bpICtY2Z",
        "outputId": "49602e6e-48a9-47e6-d0c3-ea5d61ebb8fb"
      },
      "execution_count": null,
      "outputs": [
        {
          "output_type": "execute_result",
          "data": {
            "text/plain": [
              "        Tournament  Wins  Ranking Change\n",
              "0  Australian Open     5              -2\n",
              "1      French Open     7              -3\n",
              "2        Wimbledon     6              -1\n",
              "3          US Open     8              -4"
            ],
            "text/html": [
              "\n",
              "  <div id=\"df-6b38c7f1-9dbd-48ab-8305-81089aebc890\" class=\"colab-df-container\">\n",
              "    <div>\n",
              "<style scoped>\n",
              "    .dataframe tbody tr th:only-of-type {\n",
              "        vertical-align: middle;\n",
              "    }\n",
              "\n",
              "    .dataframe tbody tr th {\n",
              "        vertical-align: top;\n",
              "    }\n",
              "\n",
              "    .dataframe thead th {\n",
              "        text-align: right;\n",
              "    }\n",
              "</style>\n",
              "<table border=\"1\" class=\"dataframe\">\n",
              "  <thead>\n",
              "    <tr style=\"text-align: right;\">\n",
              "      <th></th>\n",
              "      <th>Tournament</th>\n",
              "      <th>Wins</th>\n",
              "      <th>Ranking Change</th>\n",
              "    </tr>\n",
              "  </thead>\n",
              "  <tbody>\n",
              "    <tr>\n",
              "      <th>0</th>\n",
              "      <td>Australian Open</td>\n",
              "      <td>5</td>\n",
              "      <td>-2</td>\n",
              "    </tr>\n",
              "    <tr>\n",
              "      <th>1</th>\n",
              "      <td>French Open</td>\n",
              "      <td>7</td>\n",
              "      <td>-3</td>\n",
              "    </tr>\n",
              "    <tr>\n",
              "      <th>2</th>\n",
              "      <td>Wimbledon</td>\n",
              "      <td>6</td>\n",
              "      <td>-1</td>\n",
              "    </tr>\n",
              "    <tr>\n",
              "      <th>3</th>\n",
              "      <td>US Open</td>\n",
              "      <td>8</td>\n",
              "      <td>-4</td>\n",
              "    </tr>\n",
              "  </tbody>\n",
              "</table>\n",
              "</div>\n",
              "    <div class=\"colab-df-buttons\">\n",
              "\n",
              "  <div class=\"colab-df-container\">\n",
              "    <button class=\"colab-df-convert\" onclick=\"convertToInteractive('df-6b38c7f1-9dbd-48ab-8305-81089aebc890')\"\n",
              "            title=\"Convert this dataframe to an interactive table.\"\n",
              "            style=\"display:none;\">\n",
              "\n",
              "  <svg xmlns=\"http://www.w3.org/2000/svg\" height=\"24px\" viewBox=\"0 -960 960 960\">\n",
              "    <path d=\"M120-120v-720h720v720H120Zm60-500h600v-160H180v160Zm220 220h160v-160H400v160Zm0 220h160v-160H400v160ZM180-400h160v-160H180v160Zm440 0h160v-160H620v160ZM180-180h160v-160H180v160Zm440 0h160v-160H620v160Z\"/>\n",
              "  </svg>\n",
              "    </button>\n",
              "\n",
              "  <style>\n",
              "    .colab-df-container {\n",
              "      display:flex;\n",
              "      gap: 12px;\n",
              "    }\n",
              "\n",
              "    .colab-df-convert {\n",
              "      background-color: #E8F0FE;\n",
              "      border: none;\n",
              "      border-radius: 50%;\n",
              "      cursor: pointer;\n",
              "      display: none;\n",
              "      fill: #1967D2;\n",
              "      height: 32px;\n",
              "      padding: 0 0 0 0;\n",
              "      width: 32px;\n",
              "    }\n",
              "\n",
              "    .colab-df-convert:hover {\n",
              "      background-color: #E2EBFA;\n",
              "      box-shadow: 0px 1px 2px rgba(60, 64, 67, 0.3), 0px 1px 3px 1px rgba(60, 64, 67, 0.15);\n",
              "      fill: #174EA6;\n",
              "    }\n",
              "\n",
              "    .colab-df-buttons div {\n",
              "      margin-bottom: 4px;\n",
              "    }\n",
              "\n",
              "    [theme=dark] .colab-df-convert {\n",
              "      background-color: #3B4455;\n",
              "      fill: #D2E3FC;\n",
              "    }\n",
              "\n",
              "    [theme=dark] .colab-df-convert:hover {\n",
              "      background-color: #434B5C;\n",
              "      box-shadow: 0px 1px 3px 1px rgba(0, 0, 0, 0.15);\n",
              "      filter: drop-shadow(0px 1px 2px rgba(0, 0, 0, 0.3));\n",
              "      fill: #FFFFFF;\n",
              "    }\n",
              "  </style>\n",
              "\n",
              "    <script>\n",
              "      const buttonEl =\n",
              "        document.querySelector('#df-6b38c7f1-9dbd-48ab-8305-81089aebc890 button.colab-df-convert');\n",
              "      buttonEl.style.display =\n",
              "        google.colab.kernel.accessAllowed ? 'block' : 'none';\n",
              "\n",
              "      async function convertToInteractive(key) {\n",
              "        const element = document.querySelector('#df-6b38c7f1-9dbd-48ab-8305-81089aebc890');\n",
              "        const dataTable =\n",
              "          await google.colab.kernel.invokeFunction('convertToInteractive',\n",
              "                                                    [key], {});\n",
              "        if (!dataTable) return;\n",
              "\n",
              "        const docLinkHtml = 'Like what you see? Visit the ' +\n",
              "          '<a target=\"_blank\" href=https://colab.research.google.com/notebooks/data_table.ipynb>data table notebook</a>'\n",
              "          + ' to learn more about interactive tables.';\n",
              "        element.innerHTML = '';\n",
              "        dataTable['output_type'] = 'display_data';\n",
              "        await google.colab.output.renderOutput(dataTable, element);\n",
              "        const docLink = document.createElement('div');\n",
              "        docLink.innerHTML = docLinkHtml;\n",
              "        element.appendChild(docLink);\n",
              "      }\n",
              "    </script>\n",
              "  </div>\n",
              "\n",
              "\n",
              "<div id=\"df-b662038e-deed-4031-b1e4-c6b5166ec11a\">\n",
              "  <button class=\"colab-df-quickchart\" onclick=\"quickchart('df-b662038e-deed-4031-b1e4-c6b5166ec11a')\"\n",
              "            title=\"Suggest charts\"\n",
              "            style=\"display:none;\">\n",
              "\n",
              "<svg xmlns=\"http://www.w3.org/2000/svg\" height=\"24px\"viewBox=\"0 0 24 24\"\n",
              "     width=\"24px\">\n",
              "    <g>\n",
              "        <path d=\"M19 3H5c-1.1 0-2 .9-2 2v14c0 1.1.9 2 2 2h14c1.1 0 2-.9 2-2V5c0-1.1-.9-2-2-2zM9 17H7v-7h2v7zm4 0h-2V7h2v10zm4 0h-2v-4h2v4z\"/>\n",
              "    </g>\n",
              "</svg>\n",
              "  </button>\n",
              "\n",
              "<style>\n",
              "  .colab-df-quickchart {\n",
              "      --bg-color: #E8F0FE;\n",
              "      --fill-color: #1967D2;\n",
              "      --hover-bg-color: #E2EBFA;\n",
              "      --hover-fill-color: #174EA6;\n",
              "      --disabled-fill-color: #AAA;\n",
              "      --disabled-bg-color: #DDD;\n",
              "  }\n",
              "\n",
              "  [theme=dark] .colab-df-quickchart {\n",
              "      --bg-color: #3B4455;\n",
              "      --fill-color: #D2E3FC;\n",
              "      --hover-bg-color: #434B5C;\n",
              "      --hover-fill-color: #FFFFFF;\n",
              "      --disabled-bg-color: #3B4455;\n",
              "      --disabled-fill-color: #666;\n",
              "  }\n",
              "\n",
              "  .colab-df-quickchart {\n",
              "    background-color: var(--bg-color);\n",
              "    border: none;\n",
              "    border-radius: 50%;\n",
              "    cursor: pointer;\n",
              "    display: none;\n",
              "    fill: var(--fill-color);\n",
              "    height: 32px;\n",
              "    padding: 0;\n",
              "    width: 32px;\n",
              "  }\n",
              "\n",
              "  .colab-df-quickchart:hover {\n",
              "    background-color: var(--hover-bg-color);\n",
              "    box-shadow: 0 1px 2px rgba(60, 64, 67, 0.3), 0 1px 3px 1px rgba(60, 64, 67, 0.15);\n",
              "    fill: var(--button-hover-fill-color);\n",
              "  }\n",
              "\n",
              "  .colab-df-quickchart-complete:disabled,\n",
              "  .colab-df-quickchart-complete:disabled:hover {\n",
              "    background-color: var(--disabled-bg-color);\n",
              "    fill: var(--disabled-fill-color);\n",
              "    box-shadow: none;\n",
              "  }\n",
              "\n",
              "  .colab-df-spinner {\n",
              "    border: 2px solid var(--fill-color);\n",
              "    border-color: transparent;\n",
              "    border-bottom-color: var(--fill-color);\n",
              "    animation:\n",
              "      spin 1s steps(1) infinite;\n",
              "  }\n",
              "\n",
              "  @keyframes spin {\n",
              "    0% {\n",
              "      border-color: transparent;\n",
              "      border-bottom-color: var(--fill-color);\n",
              "      border-left-color: var(--fill-color);\n",
              "    }\n",
              "    20% {\n",
              "      border-color: transparent;\n",
              "      border-left-color: var(--fill-color);\n",
              "      border-top-color: var(--fill-color);\n",
              "    }\n",
              "    30% {\n",
              "      border-color: transparent;\n",
              "      border-left-color: var(--fill-color);\n",
              "      border-top-color: var(--fill-color);\n",
              "      border-right-color: var(--fill-color);\n",
              "    }\n",
              "    40% {\n",
              "      border-color: transparent;\n",
              "      border-right-color: var(--fill-color);\n",
              "      border-top-color: var(--fill-color);\n",
              "    }\n",
              "    60% {\n",
              "      border-color: transparent;\n",
              "      border-right-color: var(--fill-color);\n",
              "    }\n",
              "    80% {\n",
              "      border-color: transparent;\n",
              "      border-right-color: var(--fill-color);\n",
              "      border-bottom-color: var(--fill-color);\n",
              "    }\n",
              "    90% {\n",
              "      border-color: transparent;\n",
              "      border-bottom-color: var(--fill-color);\n",
              "    }\n",
              "  }\n",
              "</style>\n",
              "\n",
              "  <script>\n",
              "    async function quickchart(key) {\n",
              "      const quickchartButtonEl =\n",
              "        document.querySelector('#' + key + ' button');\n",
              "      quickchartButtonEl.disabled = true;  // To prevent multiple clicks.\n",
              "      quickchartButtonEl.classList.add('colab-df-spinner');\n",
              "      try {\n",
              "        const charts = await google.colab.kernel.invokeFunction(\n",
              "            'suggestCharts', [key], {});\n",
              "      } catch (error) {\n",
              "        console.error('Error during call to suggestCharts:', error);\n",
              "      }\n",
              "      quickchartButtonEl.classList.remove('colab-df-spinner');\n",
              "      quickchartButtonEl.classList.add('colab-df-quickchart-complete');\n",
              "    }\n",
              "    (() => {\n",
              "      let quickchartButtonEl =\n",
              "        document.querySelector('#df-b662038e-deed-4031-b1e4-c6b5166ec11a button');\n",
              "      quickchartButtonEl.style.display =\n",
              "        google.colab.kernel.accessAllowed ? 'block' : 'none';\n",
              "    })();\n",
              "  </script>\n",
              "</div>\n",
              "\n",
              "  <div id=\"id_e31f327f-90e8-4c87-927a-72a5f141ee1f\">\n",
              "    <style>\n",
              "      .colab-df-generate {\n",
              "        background-color: #E8F0FE;\n",
              "        border: none;\n",
              "        border-radius: 50%;\n",
              "        cursor: pointer;\n",
              "        display: none;\n",
              "        fill: #1967D2;\n",
              "        height: 32px;\n",
              "        padding: 0 0 0 0;\n",
              "        width: 32px;\n",
              "      }\n",
              "\n",
              "      .colab-df-generate:hover {\n",
              "        background-color: #E2EBFA;\n",
              "        box-shadow: 0px 1px 2px rgba(60, 64, 67, 0.3), 0px 1px 3px 1px rgba(60, 64, 67, 0.15);\n",
              "        fill: #174EA6;\n",
              "      }\n",
              "\n",
              "      [theme=dark] .colab-df-generate {\n",
              "        background-color: #3B4455;\n",
              "        fill: #D2E3FC;\n",
              "      }\n",
              "\n",
              "      [theme=dark] .colab-df-generate:hover {\n",
              "        background-color: #434B5C;\n",
              "        box-shadow: 0px 1px 3px 1px rgba(0, 0, 0, 0.15);\n",
              "        filter: drop-shadow(0px 1px 2px rgba(0, 0, 0, 0.3));\n",
              "        fill: #FFFFFF;\n",
              "      }\n",
              "    </style>\n",
              "    <button class=\"colab-df-generate\" onclick=\"generateWithVariable('season_data')\"\n",
              "            title=\"Generate code using this dataframe.\"\n",
              "            style=\"display:none;\">\n",
              "\n",
              "  <svg xmlns=\"http://www.w3.org/2000/svg\" height=\"24px\"viewBox=\"0 0 24 24\"\n",
              "       width=\"24px\">\n",
              "    <path d=\"M7,19H8.4L18.45,9,17,7.55,7,17.6ZM5,21V16.75L18.45,3.32a2,2,0,0,1,2.83,0l1.4,1.43a1.91,1.91,0,0,1,.58,1.4,1.91,1.91,0,0,1-.58,1.4L9.25,21ZM18.45,9,17,7.55Zm-12,3A5.31,5.31,0,0,0,4.9,8.1,5.31,5.31,0,0,0,1,6.5,5.31,5.31,0,0,0,4.9,4.9,5.31,5.31,0,0,0,6.5,1,5.31,5.31,0,0,0,8.1,4.9,5.31,5.31,0,0,0,12,6.5,5.46,5.46,0,0,0,6.5,12Z\"/>\n",
              "  </svg>\n",
              "    </button>\n",
              "    <script>\n",
              "      (() => {\n",
              "      const buttonEl =\n",
              "        document.querySelector('#id_e31f327f-90e8-4c87-927a-72a5f141ee1f button.colab-df-generate');\n",
              "      buttonEl.style.display =\n",
              "        google.colab.kernel.accessAllowed ? 'block' : 'none';\n",
              "\n",
              "      buttonEl.onclick = () => {\n",
              "        google.colab.notebook.generateWithVariable('season_data');\n",
              "      }\n",
              "      })();\n",
              "    </script>\n",
              "  </div>\n",
              "\n",
              "    </div>\n",
              "  </div>\n"
            ],
            "application/vnd.google.colaboratory.intrinsic+json": {
              "type": "dataframe",
              "variable_name": "season_data",
              "summary": "{\n  \"name\": \"season_data\",\n  \"rows\": 4,\n  \"fields\": [\n    {\n      \"column\": \"Tournament\",\n      \"properties\": {\n        \"dtype\": \"string\",\n        \"num_unique_values\": 4,\n        \"samples\": [\n          \"French Open\",\n          \"US Open\",\n          \"Australian Open\"\n        ],\n        \"semantic_type\": \"\",\n        \"description\": \"\"\n      }\n    },\n    {\n      \"column\": \"Wins\",\n      \"properties\": {\n        \"dtype\": \"number\",\n        \"std\": 1,\n        \"min\": 5,\n        \"max\": 8,\n        \"num_unique_values\": 4,\n        \"samples\": [\n          7,\n          8,\n          5\n        ],\n        \"semantic_type\": \"\",\n        \"description\": \"\"\n      }\n    },\n    {\n      \"column\": \"Ranking Change\",\n      \"properties\": {\n        \"dtype\": \"number\",\n        \"std\": 1,\n        \"min\": -4,\n        \"max\": -1,\n        \"num_unique_values\": 4,\n        \"samples\": [\n          -3,\n          -4,\n          -2\n        ],\n        \"semantic_type\": \"\",\n        \"description\": \"\"\n      }\n    }\n  ]\n}"
            }
          },
          "metadata": {},
          "execution_count": 2
        }
      ]
    },
    {
      "cell_type": "markdown",
      "source": [
        "Here’s an overview of Bianca’s performance in the major tournaments during the 2024 season. We can see the number of wins she had in each tournament and how her ranking improved after each one.\n",
        "\n",
        "Now, let's analyze her performance more deeply by calculating the win percentage in each tournament and comparing her ranking improvement.\n"
      ],
      "metadata": {
        "id": "9fcgTCrBtd0G"
      }
    },
    {
      "cell_type": "markdown",
      "source": [
        "## Performance Analysis: Win Percentages and Ranking Improvement\n",
        "\n",
        "To measure Bianca’s success, we will calculate two important metrics:\n",
        "\n",
        "1. **Win Percentage** – This is Bianca's number of wins divided by the total matches played in each tournament. This will give us an idea of how well she performed relative to the competition.\n",
        "2. **Ranking Improvement** – This shows how much Bianca’s ranking improved after each tournament. A negative value means she climbed the rankings.\n",
        "\n",
        "Let’s calculate these metrics and visualize them to understand her progress throughout the season.\n"
      ],
      "metadata": {
        "id": "AKErsjWwtuxw"
      }
    },
    {
      "cell_type": "code",
      "source": [
        "# Simulate the total number of matches played in each tournament\n",
        "total_matches = [7, 9, 8, 10]  # Total matches played in each tournament\n",
        "\n",
        "# Calculate win percentage\n",
        "season_data['Win Percentage'] = (season_data['Wins'] / total_matches) * 100\n",
        "\n",
        "# Plot the data\n",
        "fig, ax1 = plt.subplots(figsize=(10, 6))\n",
        "\n",
        "# Create the bar chart for wins\n",
        "ax1.bar(season_data['Tournament'], season_data['Wins'], color='b', alpha=0.6, label='Number of Wins')\n",
        "ax1.set_xlabel('Tournament')\n",
        "ax1.set_ylabel('Wins', color='b')\n",
        "ax1.tick_params(axis='y', labelcolor='b')\n",
        "\n",
        "# Create the line chart for ranking change\n",
        "ax2 = ax1.twinx()\n",
        "ax2.plot(season_data['Tournament'], season_data['Ranking Change'], color='r', marker='o', label='Ranking Change')\n",
        "ax2.set_ylabel('Ranking Change', color='r')\n",
        "ax2.tick_params(axis='y', labelcolor='r')\n",
        "\n",
        "plt.title(\"Bianca's Tennis Season Performance\")\n",
        "plt.grid(True)\n",
        "plt.show()\n"
      ],
      "metadata": {
        "colab": {
          "base_uri": "https://localhost:8080/",
          "height": 564
        },
        "id": "wJiUgiF9tzEw",
        "outputId": "ca46a0ea-68aa-4aec-84cc-d53ea2972eb2"
      },
      "execution_count": null,
      "outputs": [
        {
          "output_type": "display_data",
          "data": {
            "text/plain": [
              "<Figure size 1000x600 with 2 Axes>"
            ],
            "image/png": "[encoded data removed]"
          },
          "metadata": {}
        }
      ]
    },
    {
      "cell_type": "markdown",
      "source": [
        "This chart visualizes Bianca’s performance in the major tournaments. The blue bars show her wins in each tournament, while the red line indicates how much her ranking improved (a negative value means an improvement in the ranking).\n",
        "\n",
        "As we can see, her wins increased, and her ranking improved after each tournament, with the most significant improvements after the US Open, where she won the title.\n",
        "\n",
        "Next, we’ll explore some of her key matches to understand what contributed to her success in these tournaments.\n"
      ],
      "metadata": {
        "id": "JSpfOgMYt3o9"
      }
    },
    {
      "cell_type": "markdown",
      "source": [
        "## Key Matches: Bianca's Turning Points\n",
        "\n",
        "Throughout the season, Bianca played some key matches that marked turning points in her journey. These matches were against top-ranked opponents and showed Bianca’s true potential. For example, her dramatic win in the **Wimbledon Semifinal** against a top 5 player was a major highlight.\n",
        "\n",
        "Let’s take a closer look at some of these key matches, track the number of games Bianca won in each, and see how defeating higher-ranked players contributed to her success.\n"
      ],
      "metadata": {
        "id": "iO_z2lYCt7XR"
      }
    },
    {
      "cell_type": "code",
      "source": [
        "# Simulated key match data\n",
        "key_matches = ['Wimbledon Final', 'US Open Quarterfinal', 'Australian Open 4th Round']\n",
        "games_won = [18, 15, 20]  # Number of games won in these key matches\n",
        "opponent_ranking = [3, 5, 10]  # Ranking of the opponent Bianca defeated\n",
        "\n",
        "# Create a DataFrame for key matches\n",
        "key_match_data = pd.DataFrame({\n",
        "    'Match': key_matches,\n",
        "    'Games Won': games_won,\n",
        "    'Opponent Ranking': opponent_ranking\n",
        "})\n",
        "\n",
        "# Plot the data\n",
        "plt.figure(figsize=(8, 5))\n",
        "plt.bar(key_match_data['Match'], key_match_data['Games Won'], color='g')\n",
        "plt.xlabel('Key Matches')\n",
        "plt.ylabel('Games Won')\n",
        "plt.title(\"Key Matches in Bianca's Season\")\n",
        "plt.grid(True)\n",
        "plt.show()\n"
      ],
      "metadata": {
        "colab": {
          "base_uri": "https://localhost:8080/",
          "height": 487
        },
        "id": "QodiuNNZt-WJ",
        "outputId": "9b457709-13d9-4585-c477-9205771ec091"
      },
      "execution_count": null,
      "outputs": [
        {
          "output_type": "display_data",
          "data": {
            "text/plain": [
              "<Figure size 800x500 with 1 Axes>"
            ],
            "image/png": "[encoded data removed]"
          },
          "metadata": {}
        }
      ]
    },
    {
      "cell_type": "markdown",
      "source": [
        "In these key matches, Bianca faced top-ranked players and came out victorious. The number of games she won in each match is shown in the bar chart above. These victories were crucial in her path to becoming one of the top players of the season.\n",
        "\n",
        "Now, let’s draw some conclusions from this analysis and look at the overall insights we can learn from Bianca’s successful season.\n"
      ],
      "metadata": {
        "id": "ZpwwBPfPuCd6"
      }
    },
    {
      "cell_type": "markdown",
      "source": [
        "## Conclusion: A Successful Season\n",
        "\n",
        "Bianca’s performance throughout the 2024 season demonstrates the importance of consistency, preparation, and mental toughness. By analyzing her tournament results, win percentages, ranking changes, and key matches, we can conclude that:\n",
        "\n",
        "- Her performance improved consistently throughout the year, especially in the major tournaments.\n",
        "- Key victories against high-ranking players were pivotal moments that boosted her confidence and ranking.\n",
        "- Her dedication to improving her game, both physically and mentally, paid off with her success.\n",
        "\n",
        "This season was a remarkable achievement for Bianca and set the stage for even greater accomplishments in the future. Her story is a testament to the power of persistence and determination in achieving one’s goals.\n"
      ],
      "metadata": {
        "id": "Lo8lOiXZuGim"
      }
    },
    {
      "cell_type": "markdown",
      "source": [
        "## References\n",
        "\n",
        "- [Bianca Andreescu's Tennis Career Overview](https://www.tennis.com/)\n",
        "- [ATP & WTA Ranking System](https://www.atptour.com/)\n"
      ],
      "metadata": {
        "id": "O-7wgMvNuMDr"
      }
    }
  ]
}